{
 "cells": [
  {
   "cell_type": "code",
   "execution_count": 1,
   "metadata": {},
   "outputs": [
    {
     "name": "stderr",
     "output_type": "stream",
     "text": [
      "Using Theano backend.\n"
     ]
    }
   ],
   "source": [
    "import numpy as np # linear algebra\n",
    "import pandas as pd # data processing, CSV file I/O (e.g. pd.read_csv)\n",
    "import os\n",
    "import gc\n",
    "import dill\n",
    "\n",
    "import keras as k\n",
    "from keras.models import Sequential, Model\n",
    "from keras.layers import Dense, Dropout, Flatten\n",
    "from keras.layers import Conv2D, MaxPooling2D, Input, merge, UpSampling2D\n",
    "from keras.layers.merge import concatenate\n",
    "\n",
    "import cv2\n",
    "from tqdm import tqdm\n"
   ]
  },
  {
   "cell_type": "code",
   "execution_count": 83,
   "metadata": {
    "collapsed": true
   },
   "outputs": [],
   "source": [
    "with open('tiffs.pkl', 'rb') as in_strm:\n",
    "    all_info = dill.load(in_strm)\n",
    "x_train = all_info[0]\n",
    "x_test = all_info[1]\n",
    "y_train = all_info[2]\n",
    "y_test = all_info[3]"
   ]
  },
  {
   "cell_type": "code",
   "execution_count": 2,
   "metadata": {
    "collapsed": true
   },
   "outputs": [],
   "source": [
    "def get_unet():\n",
    "    inputs1 = Input(shape=(32, 32, 3))\n",
    "    conv1 = Conv2D(32, (3, 3), activation='relu', padding='same')(inputs1)\n",
    "    conv12 = Conv2D(32, (3, 3), activation='relu', padding='same')(conv1)\n",
    "    pool1 = MaxPooling2D(pool_size=(2, 2))(conv12)\n",
    "\n",
    "    conv2 = Conv2D(64, (3, 3), activation='relu', padding='same')(pool1)\n",
    "    conv23 = Conv2D(64, (3, 3), activation='relu', padding='same')(conv2)\n",
    "    pool2 = MaxPooling2D(pool_size=(2, 2))(conv23)\n",
    "\n",
    "    conv3 = Conv2D(128, (3, 3), activation='relu', padding='same')(pool2)\n",
    "    conv32 = Conv2D(128, (3, 3), activation='relu', padding='same')(conv3)\n",
    "    pool3 = MaxPooling2D(pool_size=(2, 2))(conv32)\n",
    "\n",
    "    conv4 = Conv2D(256, (3, 3), activation='relu', padding='same')(pool3)\n",
    "    conv42 = Conv2D(256, (3, 3), activation='relu', padding='same')(conv4)\n",
    "    pool4 = MaxPooling2D(pool_size=(2, 2))(conv42)\n",
    "\n",
    "    conv5 = Conv2D(512, (3, 3), activation='relu', padding='same')(pool4)\n",
    "    conv52 = Conv2D(512, (3, 3), activation='relu', padding='same')(conv5)\n",
    "\n",
    "    up6 = concatenate([UpSampling2D(size=(2, 2))(conv52), conv42], axis=3)\n",
    "    conv6 = Conv2D(256, (3, 3), activation='relu', padding='same')(up6)\n",
    "    conv62 = Conv2D(256, (3, 3), activation='relu', padding='same')(conv6)\n",
    "\n",
    "    up7 = concatenate([UpSampling2D(size=(2, 2))(conv62), conv32], axis=3)\n",
    "    conv7 = Conv2D(128, (3, 3), activation='relu', padding='same')(up7)\n",
    "    conv72 = Conv2D(128, (3, 3), activation='relu', padding='same')(conv7)\n",
    "\n",
    "    up8 = concatenate([UpSampling2D(size=(2, 2))(conv72), conv23], axis=3)\n",
    "    conv8 = Conv2D(64, (3, 3), activation='relu', padding='same')(up8)\n",
    "    conv82 = Conv2D(64, (3, 3), activation='relu', padding='same')(conv8)\n",
    "\n",
    "    up9 = concatenate([UpSampling2D(size=(2, 2))(conv82), conv12], axis=3)\n",
    "    conv9 = Conv2D(32, (3, 3), activation='relu', padding='same')(up9)\n",
    "    conv92 = Conv2D(32, (3, 3), activation='relu', padding='same')(conv9)\n",
    "\n",
    "    flat = Flatten()(conv92)\n",
    "    dense1 = Dense(128, activation='relu')(flat)\n",
    "    drop = Dropout(0.5)(dense1)\n",
    "    dense2 = Dense(17, activation='sigmoid')(drop)\n",
    "\n",
    "    model = Model(inputs=inputs1, outputs=dense2)\n",
    "    model.compile(optimizer='adam', loss='binary_crossentropy', metrics=['accuracy'])\n",
    "    return model"
   ]
  },
  {
   "cell_type": "code",
   "execution_count": 3,
   "metadata": {},
   "outputs": [
    {
     "name": "stdout",
     "output_type": "stream",
     "text": [
      "____________________________________________________________________________________________________\n",
      "Layer (type)                     Output Shape          Param #     Connected to                     \n",
      "====================================================================================================\n",
      "input_1 (InputLayer)             (None, 32, 32, 3)     0                                            \n",
      "____________________________________________________________________________________________________\n",
      "conv2d_1 (Conv2D)                (None, 32, 32, 32)    896         input_1[0][0]                    \n",
      "____________________________________________________________________________________________________\n",
      "conv2d_2 (Conv2D)                (None, 32, 32, 32)    9248        conv2d_1[0][0]                   \n",
      "____________________________________________________________________________________________________\n",
      "max_pooling2d_1 (MaxPooling2D)   (None, 16, 16, 32)    0           conv2d_2[0][0]                   \n",
      "____________________________________________________________________________________________________\n",
      "conv2d_3 (Conv2D)                (None, 16, 16, 64)    18496       max_pooling2d_1[0][0]            \n",
      "____________________________________________________________________________________________________\n",
      "conv2d_4 (Conv2D)                (None, 16, 16, 64)    36928       conv2d_3[0][0]                   \n",
      "____________________________________________________________________________________________________\n",
      "max_pooling2d_2 (MaxPooling2D)   (None, 8, 8, 64)      0           conv2d_4[0][0]                   \n",
      "____________________________________________________________________________________________________\n",
      "conv2d_5 (Conv2D)                (None, 8, 8, 128)     73856       max_pooling2d_2[0][0]            \n",
      "____________________________________________________________________________________________________\n",
      "conv2d_6 (Conv2D)                (None, 8, 8, 128)     147584      conv2d_5[0][0]                   \n",
      "____________________________________________________________________________________________________\n",
      "max_pooling2d_3 (MaxPooling2D)   (None, 4, 4, 128)     0           conv2d_6[0][0]                   \n",
      "____________________________________________________________________________________________________\n",
      "conv2d_7 (Conv2D)                (None, 4, 4, 256)     295168      max_pooling2d_3[0][0]            \n",
      "____________________________________________________________________________________________________\n",
      "conv2d_8 (Conv2D)                (None, 4, 4, 256)     590080      conv2d_7[0][0]                   \n",
      "____________________________________________________________________________________________________\n",
      "max_pooling2d_4 (MaxPooling2D)   (None, 2, 2, 256)     0           conv2d_8[0][0]                   \n",
      "____________________________________________________________________________________________________\n",
      "conv2d_9 (Conv2D)                (None, 2, 2, 512)     1180160     max_pooling2d_4[0][0]            \n",
      "____________________________________________________________________________________________________\n",
      "conv2d_10 (Conv2D)               (None, 2, 2, 512)     2359808     conv2d_9[0][0]                   \n",
      "____________________________________________________________________________________________________\n",
      "up_sampling2d_1 (UpSampling2D)   (None, 4, 4, 512)     0           conv2d_10[0][0]                  \n",
      "____________________________________________________________________________________________________\n",
      "concatenate_1 (Concatenate)      (None, 4, 4, 768)     0           up_sampling2d_1[0][0]            \n",
      "                                                                   conv2d_8[0][0]                   \n",
      "____________________________________________________________________________________________________\n",
      "conv2d_11 (Conv2D)               (None, 4, 4, 256)     1769728     concatenate_1[0][0]              \n",
      "____________________________________________________________________________________________________\n",
      "conv2d_12 (Conv2D)               (None, 4, 4, 256)     590080      conv2d_11[0][0]                  \n",
      "____________________________________________________________________________________________________\n",
      "up_sampling2d_2 (UpSampling2D)   (None, 8, 8, 256)     0           conv2d_12[0][0]                  \n",
      "____________________________________________________________________________________________________\n",
      "concatenate_2 (Concatenate)      (None, 8, 8, 384)     0           up_sampling2d_2[0][0]            \n",
      "                                                                   conv2d_6[0][0]                   \n",
      "____________________________________________________________________________________________________\n",
      "conv2d_13 (Conv2D)               (None, 8, 8, 128)     442496      concatenate_2[0][0]              \n",
      "____________________________________________________________________________________________________\n",
      "conv2d_14 (Conv2D)               (None, 8, 8, 128)     147584      conv2d_13[0][0]                  \n",
      "____________________________________________________________________________________________________\n",
      "up_sampling2d_3 (UpSampling2D)   (None, 16, 16, 128)   0           conv2d_14[0][0]                  \n",
      "____________________________________________________________________________________________________\n",
      "concatenate_3 (Concatenate)      (None, 16, 16, 192)   0           up_sampling2d_3[0][0]            \n",
      "                                                                   conv2d_4[0][0]                   \n",
      "____________________________________________________________________________________________________\n",
      "conv2d_15 (Conv2D)               (None, 16, 16, 64)    110656      concatenate_3[0][0]              \n",
      "____________________________________________________________________________________________________\n",
      "conv2d_16 (Conv2D)               (None, 16, 16, 64)    36928       conv2d_15[0][0]                  \n",
      "____________________________________________________________________________________________________\n",
      "up_sampling2d_4 (UpSampling2D)   (None, 32, 32, 64)    0           conv2d_16[0][0]                  \n",
      "____________________________________________________________________________________________________\n",
      "concatenate_4 (Concatenate)      (None, 32, 32, 96)    0           up_sampling2d_4[0][0]            \n",
      "                                                                   conv2d_2[0][0]                   \n",
      "____________________________________________________________________________________________________\n",
      "conv2d_17 (Conv2D)               (None, 32, 32, 32)    27680       concatenate_4[0][0]              \n",
      "____________________________________________________________________________________________________\n",
      "conv2d_18 (Conv2D)               (None, 32, 32, 32)    9248        conv2d_17[0][0]                  \n",
      "____________________________________________________________________________________________________\n",
      "flatten_1 (Flatten)              (None, 32768)         0           conv2d_18[0][0]                  \n",
      "____________________________________________________________________________________________________\n",
      "dense_1 (Dense)                  (None, 128)           4194432     flatten_1[0][0]                  \n",
      "____________________________________________________________________________________________________\n",
      "dropout_1 (Dropout)              (None, 128)           0           dense_1[0][0]                    \n",
      "____________________________________________________________________________________________________\n",
      "dense_2 (Dense)                  (None, 17)            2193        dropout_1[0][0]                  \n",
      "====================================================================================================\n",
      "Total params: 12,043,249\n",
      "Trainable params: 12,043,249\n",
      "Non-trainable params: 0\n",
      "____________________________________________________________________________________________________\n"
     ]
    }
   ],
   "source": [
    "model = get_unet()\n",
    "model.summary()"
   ]
  },
  {
   "cell_type": "code",
   "execution_count": 89,
   "metadata": {},
   "outputs": [
    {
     "name": "stdout",
     "output_type": "stream",
     "text": [
      "(35000, 32, 32, 3)\n",
      "(5479, 32, 32, 3)\n",
      "(35000, 17)\n",
      "(5479, 17)\n"
     ]
    }
   ],
   "source": [
    "print(x_train.shape)\n",
    "print(x_test.shape)\n",
    "print(y_train.shape)\n",
    "print(y_test.shape)"
   ]
  },
  {
   "cell_type": "code",
   "execution_count": 93,
   "metadata": {},
   "outputs": [
    {
     "name": "stdout",
     "output_type": "stream",
     "text": [
      "2.0.4\n",
      "Train on 35000 samples, validate on 5479 samples\n",
      "Epoch 1/8\n",
      "35000/35000 [==============================] - 2223s - loss: 0.2750 - acc: 0.8957 - val_loss: 0.2348 - val_acc: 0.9078\n",
      "Epoch 2/8\n",
      "35000/35000 [==============================] - 2494s - loss: 0.2343 - acc: 0.9101 - val_loss: 0.2215 - val_acc: 0.9106\n",
      "Epoch 3/8\n",
      "35000/35000 [==============================] - 2516s - loss: 0.2229 - acc: 0.9143 - val_loss: 0.2098 - val_acc: 0.9158\n",
      "Epoch 4/8\n",
      "35000/35000 [==============================] - 2249s - loss: 0.2146 - acc: 0.9163 - val_loss: 0.2008 - val_acc: 0.9187\n",
      "Epoch 5/8\n",
      "35000/35000 [==============================] - 2252s - loss: 0.2045 - acc: 0.9185 - val_loss: 0.1882 - val_acc: 0.9241\n",
      "Epoch 6/8\n",
      "35000/35000 [==============================] - 2277s - loss: 0.1972 - acc: 0.9224 - val_loss: 0.1830 - val_acc: 0.9273\n",
      "Epoch 7/8\n",
      "35000/35000 [==============================] - 2279s - loss: 0.1899 - acc: 0.9264 - val_loss: 0.1778 - val_acc: 0.9298\n",
      "Epoch 8/8\n",
      "35000/35000 [==============================] - 2275s - loss: 0.1799 - acc: 0.9316 - val_loss: 0.1653 - val_acc: 0.9358\n",
      "[[0 1 0 ..., 0 0 0]\n",
      " [0 0 1 ..., 0 0 1]\n",
      " [0 1 0 ..., 1 0 1]\n",
      " ..., \n",
      " [0 0 0 ..., 0 0 1]\n",
      " [0 0 1 ..., 0 0 1]\n",
      " [0 1 0 ..., 0 0 1]]\n",
      "[[  2.55171377e-02   3.21931124e-01   3.29001188e-01 ...,   3.07708949e-01\n",
      "    5.17336512e-03   5.64036906e-01]\n",
      " [  1.05021251e-02   3.08013588e-01   3.34938765e-01 ...,   2.79880583e-01\n",
      "    1.69018027e-03   6.11162245e-01]\n",
      " [  4.63888375e-03   1.96759537e-01   5.21385849e-01 ...,   6.14621997e-01\n",
      "    1.02228572e-04   4.11722690e-01]\n",
      " ..., \n",
      " [  8.25783864e-05   1.74460232e-01   7.30078042e-01 ...,   2.71724105e-01\n",
      "    7.68757127e-06   8.83719921e-01]\n",
      " [  1.44370642e-04   1.38544440e-01   6.45381868e-01 ...,   2.29156926e-01\n",
      "    2.79327323e-05   8.58643889e-01]\n",
      " [  7.76446541e-04   1.84623092e-01   1.55313686e-01 ...,   2.32711613e-01\n",
      "    3.25276851e-05   3.34502935e-01]]\n",
      "0.842141725816\n"
     ]
    }
   ],
   "source": [
    "print (k.__version__)\n",
    "model = get_unet()\n",
    "\n",
    "model.fit(x_train, y_train, batch_size=128, epochs=8, verbose=1,\n",
    "         validation_data=(x_test, y_test))\n",
    "\n",
    "from sklearn.metrics import fbeta_score\n",
    "\n",
    "p_valid = model.predict(x_test, batch_size=128)\n",
    "print(y_test)\n",
    "print(p_valid)\n",
    "print(fbeta_score(y_test, np.array(p_valid) > 0.2, beta=2, average='samples'))"
   ]
  },
  {
   "cell_type": "code",
   "execution_count": 94,
   "metadata": {
    "collapsed": true
   },
   "outputs": [],
   "source": [
    "from keras.models import load_model"
   ]
  },
  {
   "cell_type": "markdown",
   "metadata": {},
   "source": [
    "Turns out you need to name all the layers differently if you want to save the model...\n",
    "See Unet Saving Test if you want an example\n",
    "Anyway, for now I'll just save the weights only ._."
   ]
  },
  {
   "cell_type": "code",
   "execution_count": 98,
   "metadata": {
    "collapsed": true
   },
   "outputs": [],
   "source": [
    "model.save_weights('unets/unet_1_weights.h5')"
   ]
  }
 ],
 "metadata": {
  "kernelspec": {
   "display_name": "Python 3",
   "language": "python",
   "name": "python3"
  },
  "language_info": {
   "codemirror_mode": {
    "name": "ipython",
    "version": 3
   },
   "file_extension": ".py",
   "mimetype": "text/x-python",
   "name": "python",
   "nbconvert_exporter": "python",
   "pygments_lexer": "ipython3",
   "version": "3.6.0"
  }
 },
 "nbformat": 4,
 "nbformat_minor": 2
}
