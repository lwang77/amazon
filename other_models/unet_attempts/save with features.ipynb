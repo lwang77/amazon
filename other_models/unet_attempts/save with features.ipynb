{
 "cells": [
  {
   "cell_type": "code",
   "execution_count": 1,
   "metadata": {},
   "outputs": [
    {
     "name": "stderr",
     "output_type": "stream",
     "text": [
      "Using Theano backend.\n"
     ]
    }
   ],
   "source": [
    "import numpy as np # linear algebra\n",
    "import scipy as scipy\n",
    "import pandas as pd # data processing, CSV file I/O (e.g. pd.read_csv)\n",
    "import os\n",
    "import gc\n",
    "import dill\n",
    "\n",
    "import keras as k\n",
    "import cv2\n",
    "from tqdm import tqdm\n"
   ]
  },
  {
   "cell_type": "code",
   "execution_count": 2,
   "metadata": {
    "collapsed": true
   },
   "outputs": [],
   "source": [
    "def getCov(a):\n",
    "    red_lst = list()\n",
    "    green_lst = list()\n",
    "    blue_lst = list()\n",
    "    nir_lst = list()\n",
    "    for image in a:\n",
    "        red_lst.append(np.cov(image[:,:,0]))\n",
    "        green_lst.append(np.cov(image[:,:,1]))\n",
    "        blue_lst.append(np.cov(image[:,:,2]))\n",
    "        nir_lst.append(np.cov(image[:,:,3]))\n",
    "    return np.array(red_lst), np.array(green_lst), np.array(blue_lst), np.array(nir_lst)"
   ]
  },
  {
   "cell_type": "code",
   "execution_count": 3,
   "metadata": {
    "collapsed": true
   },
   "outputs": [],
   "source": [
    "def estimated_autocorrelation(x):\n",
    "    \"\"\"\n",
    "    http://stackoverflow.com/q/14297012/190597\n",
    "    http://en.wikipedia.org/wiki/Autocorrelation#Estimation\n",
    "    \"\"\"\n",
    "    n = len(x)\n",
    "    variance = x.var()\n",
    "    x = x-x.mean()\n",
    "    r = np.correlate(x, x, mode = 'full')[-n:]\n",
    "    result = r/(variance*(np.arange(n, 0, -1)))\n",
    "    return result"
   ]
  },
  {
   "cell_type": "code",
   "execution_count": 4,
   "metadata": {
    "collapsed": true
   },
   "outputs": [],
   "source": [
    "from skimage import measure\n",
    "def getEntropy(a):\n",
    "    red_lst = list()\n",
    "    green_lst = list()\n",
    "    blue_lst = list()\n",
    "    nir_lst = list()\n",
    "    for i, image in enumerate(a):\n",
    "        red_lst.append(measure.shannon_entropy(image[:,:,0]))\n",
    "        green_lst.append(measure.shannon_entropy(image[:,:,1]))\n",
    "        blue_lst.append(measure.shannon_entropy(image[:,:,2]))\n",
    "        nir_lst.append(measure.shannon_entropy(image[:,:,3]))\n",
    "    return np.array(red_lst), np.array(green_lst), np.array(blue_lst), np.array(nir_lst)"
   ]
  },
  {
   "cell_type": "code",
   "execution_count": null,
   "metadata": {
    "collapsed": true
   },
   "outputs": [],
   "source": [
    "from skimage import feature\n",
    "\n",
    "def getEdges(a):\n",
    "    red_lst = list()\n",
    "    green_lst = list()\n",
    "    blue_lst = list()\n",
    "    nir_lst = list()\n",
    "    for i, image in enumerate(a):\n",
    "        if i % 10000 == 0:\n",
    "            print(i)\n",
    "        red_lst.append(feature.canny(image[:,:,0], sigma=3))\n",
    "        green_lst.append(feature.canny(image[:,:,1], sigma=3))\n",
    "        blue_lst.append(feature.canny(image[:,:,2], sigma=3))\n",
    "        nir_lst.append(feature.canny(image[:,:,3], sigma=3))\n",
    "    temp = np.array([red_lst, green_lst, blue_lst, nir_lst])\n",
    "    return temp.reshape((temp.shape[1], temp.shape[2], temp.shape[3], temp.shape[0]))\n"
   ]
  },
  {
   "cell_type": "code",
   "execution_count": 5,
   "metadata": {
    "collapsed": true
   },
   "outputs": [],
   "source": [
    "def getAuto(a):\n",
    "    a = a.reshape((a.shape[0], a.shape[1] * a.shape[2], a.shape[3]))\n",
    "    red_lst = list()\n",
    "    green_lst = list()\n",
    "    blue_lst = list()\n",
    "    nir_lst = list()\n",
    "    for i, image in enumerate(a):\n",
    "        if i % 1000 == 0:\n",
    "            print(i)\n",
    "        red_lst.append(estimated_autocorrelation(image[:,0]))\n",
    "        green_lst.append(estimated_autocorrelation(image[:,1]))\n",
    "        blue_lst.append(estimated_autocorrelation(image[:,2]))\n",
    "        nir_lst.append(estimated_autocorrelation(image[:,3]))\n",
    "    return np.array(red_lst), np.array(green_lst), np.array(blue_lst), np.array(nir_lst)"
   ]
  },
  {
   "cell_type": "code",
   "execution_count": 8,
   "metadata": {
    "scrolled": true
   },
   "outputs": [
    {
     "name": "stdout",
     "output_type": "stream",
     "text": [
      "0\n",
      "1000\n",
      "2000\n",
      "3000\n",
      "4000\n",
      "5000\n",
      "6000\n",
      "7000\n",
      "8000\n",
      "9000\n",
      "10000\n",
      "11000\n",
      "12000\n",
      "13000\n",
      "14000\n",
      "15000\n",
      "16000\n",
      "17000\n",
      "18000\n",
      "19000\n",
      "20000\n",
      "21000\n",
      "22000\n",
      "23000\n",
      "24000\n",
      "25000\n",
      "26000\n",
      "27000\n",
      "28000\n",
      "29000\n",
      "30000\n",
      "31000\n",
      "32000\n",
      "33000\n",
      "34000\n",
      "(35000, 4)\n",
      "(35000, 32, 32, 4)\n"
     ]
    }
   ],
   "source": [
    "train_red_mean = np.mean(x_train[:,:,:,0].reshape(x_train.shape[0], x_train.shape[1] * x_train.shape[2]), axis=1)\n",
    "train_green_mean = np.mean(x_train[:,:,:,1].reshape(x_train.shape[0], x_train.shape[1] * x_train.shape[2]), axis=1)\n",
    "train_blue_mean = np.mean(x_train[:,:,:,2].reshape(x_train.shape[0], x_train.shape[1] * x_train.shape[2]), axis=1)\n",
    "train_nir_mean = np.mean(x_train[:,:,:,3].reshape(x_train.shape[0], x_train.shape[1] * x_train.shape[2]), axis=1)\n",
    "\n",
    "train_red_std = np.std(x_train[:,:,:,0].reshape(x_train.shape[0], x_train.shape[1] * x_train.shape[2]), axis=1)\n",
    "train_green_std = np.std(x_train[:,:,:,1].reshape(x_train.shape[0], x_train.shape[1] * x_train.shape[2]), axis=1)\n",
    "train_blue_std = np.std(x_train[:,:,:,2].reshape(x_train.shape[0], x_train.shape[1] * x_train.shape[2]), axis=1)\n",
    "train_nir_std = np.std(x_train[:,:,:,3].reshape(x_train.shape[0], x_train.shape[1] * x_train.shape[2]), axis=1)\n",
    "\n",
    "train_red_var = np.var(x_train[:,:,:,0].reshape(x_train.shape[0], x_train.shape[1] * x_train.shape[2]), axis=1)\n",
    "train_green_var = np.var(x_train[:,:,:,1].reshape(x_train.shape[0], x_train.shape[1] * x_train.shape[2]), axis=1)\n",
    "train_blue_var = np.var(x_train[:,:,:,2].reshape(x_train.shape[0], x_train.shape[1] * x_train.shape[2]), axis=1)\n",
    "train_nir_var = np.var(x_train[:,:,:,3].reshape(x_train.shape[0], x_train.shape[1] * x_train.shape[2]), axis=1)\n",
    "\n",
    "train_red_moment = scipy.stats.moment(x_train[:,:,:,0].reshape(x_train.shape[0], x_train.shape[1] * x_train.shape[2]), \n",
    "                                axis=1, moment=2)\n",
    "train_green_moment = scipy.stats.moment(x_train[:,:,:,1].reshape(x_train.shape[0], x_train.shape[1] * x_train.shape[2]), \n",
    "                                  axis=1, moment=2)\n",
    "train_blue_moment = scipy.stats.moment(x_train[:,:,:,2].reshape(x_train.shape[0], x_train.shape[1] * x_train.shape[2]), \n",
    "                                 axis=1, moment=2)\n",
    "train_nir_moment = scipy.stats.moment(x_train[:,:,:,3].reshape(x_train.shape[0], x_train.shape[1] * x_train.shape[2]), \n",
    "                                axis=1, moment=2)\n",
    "\n",
    "train_red_dct = scipy.fftpack.dct(x_train[:,:,:,0].astype(np.float64), axis=0)\n",
    "train_green_dct = scipy.fftpack.dct(x_train[:,:,:,1].astype(np.float64), axis=0)\n",
    "train_blue_dct = scipy.fftpack.dct(x_train[:,:,:,2].astype(np.float64), axis=0)\n",
    "train_nir_dct = scipy.fftpack.dct(x_train[:,:,:,3].astype(np.float64), axis=0)\n",
    "\n",
    "train_red_cov, train_green_cov, train_blue_cov, train_nir_cov = getCov(x_train)\n",
    "\n",
    "train_red_ent, train_green_ent, train_blue_ent, train_nir_ent = getEntropy(x_train)\n",
    "\n",
    "train_red_auto, train_green_auto, train_blue_auto, train_nir_auto = getAuto(x_train)\n",
    "\n",
    "train_red_auto = train_red_auto.reshape((train_red_auto.shape[0], 32, 32))\n",
    "train_blue_auto = train_blue_auto.reshape((train_blue_auto.shape[0], 32, 32))\n",
    "train_green_auto = train_blue_auto.reshape((train_green_auto.shape[0], 32, 32))\n",
    "train_nir_auto = train_nir_auto.reshape((train_nir_auto.shape[0], 32, 32))\n",
    "\n",
    "\n",
    "train_means = np.array([train_red_mean, train_green_mean, train_blue_mean, train_nir_mean])\n",
    "train_means = train_means.reshape((train_means.shape[1], train_means.shape[0]))\n",
    "print(train_means.shape)\n",
    "\n",
    "train_std = np.array([train_red_std, train_green_std, train_blue_std, train_nir_std])\n",
    "train_std = train_std.reshape((train_std.shape[1], train_std.shape[0]))\n",
    "\n",
    "train_var = np.array([train_red_var, train_green_var, train_blue_var, train_nir_var])\n",
    "train_var = train_var.reshape((train_var.shape[1], train_var.shape[0]))\n",
    "\n",
    "train_moment = np.array([train_red_moment, train_green_moment, train_blue_moment, train_nir_moment])\n",
    "train_moment = train_moment.reshape((train_moment.shape[1], train_moment.shape[0]))\n",
    "\n",
    "train_ent = np.array([train_red_ent, train_green_ent, train_blue_ent, train_nir_ent])\n",
    "train_ent = train_ent.reshape((train_ent.shape[1], train_ent.shape[0]))\n",
    "\n",
    "train_dct = np.array([train_red_dct, train_green_dct, train_blue_dct, train_nir_dct])\n",
    "train_dct = train_dct.reshape((train_dct.shape[1], train_dct.shape[2], \n",
    "                               train_dct.shape[3], train_dct.shape[0]))\n",
    "print(train_dct.shape)\n",
    "\n",
    "train_cov = np.array([train_red_cov, train_green_cov, train_blue_cov, train_nir_cov])\n",
    "train_cov = train_cov.reshape((train_cov.shape[1], train_cov.shape[2], \n",
    "                               train_cov.shape[3], train_cov.shape[0]))\n",
    "\n",
    "train_auto = np.array([train_red_auto, train_green_auto, train_blue_auto, train_nir_auto])\n",
    "train_auto = train_auto.reshape((train_auto.shape[1], train_auto.shape[2], \n",
    "                               train_auto.shape[3], train_auto.shape[0]))\n"
   ]
  },
  {
   "cell_type": "code",
   "execution_count": 9,
   "metadata": {
    "scrolled": true
   },
   "outputs": [
    {
     "name": "stdout",
     "output_type": "stream",
     "text": [
      "0\n",
      "1000\n",
      "2000\n",
      "3000\n",
      "4000\n",
      "5000\n",
      "(5479, 4)\n",
      "(5479, 32, 32, 4)\n"
     ]
    }
   ],
   "source": [
    "test_red_mean = np.mean(x_test[:,:,:,0].reshape(x_test.shape[0], x_test.shape[1] * x_test.shape[2]), axis=1)\n",
    "test_green_mean = np.mean(x_test[:,:,:,1].reshape(x_test.shape[0], x_test.shape[1] * x_test.shape[2]), axis=1)\n",
    "test_blue_mean = np.mean(x_test[:,:,:,2].reshape(x_test.shape[0], x_test.shape[1] * x_test.shape[2]), axis=1)\n",
    "test_nir_mean = np.mean(x_test[:,:,:,3].reshape(x_test.shape[0], x_test.shape[1] * x_test.shape[2]), axis=1)\n",
    "\n",
    "test_red_std = np.std(x_test[:,:,:,0].reshape(x_test.shape[0], x_test.shape[1] * x_test.shape[2]), axis=1)\n",
    "test_green_std = np.std(x_test[:,:,:,1].reshape(x_test.shape[0], x_test.shape[1] * x_test.shape[2]), axis=1)\n",
    "test_blue_std = np.std(x_test[:,:,:,2].reshape(x_test.shape[0], x_test.shape[1] * x_test.shape[2]), axis=1)\n",
    "test_nir_std = np.std(x_test[:,:,:,3].reshape(x_test.shape[0], x_test.shape[1] * x_test.shape[2]), axis=1)\n",
    "\n",
    "test_red_var = np.var(x_test[:,:,:,0].reshape(x_test.shape[0], x_test.shape[1] * x_test.shape[2]), axis=1)\n",
    "test_green_var = np.var(x_test[:,:,:,1].reshape(x_test.shape[0], x_test.shape[1] * x_test.shape[2]), axis=1)\n",
    "test_blue_var = np.var(x_test[:,:,:,2].reshape(x_test.shape[0], x_test.shape[1] * x_test.shape[2]), axis=1)\n",
    "test_nir_var = np.var(x_test[:,:,:,3].reshape(x_test.shape[0], x_test.shape[1] * x_test.shape[2]), axis=1)\n",
    "\n",
    "test_red_moment = scipy.stats.moment(x_test[:,:,:,0].reshape(x_test.shape[0], x_test.shape[1] * x_test.shape[2]), \n",
    "                                axis=1, moment=2)\n",
    "test_green_moment = scipy.stats.moment(x_test[:,:,:,1].reshape(x_test.shape[0], x_test.shape[1] * x_test.shape[2]), \n",
    "                                  axis=1, moment=2)\n",
    "test_blue_moment = scipy.stats.moment(x_test[:,:,:,2].reshape(x_test.shape[0], x_test.shape[1] * x_test.shape[2]), \n",
    "                                 axis=1, moment=2)\n",
    "test_nir_moment = scipy.stats.moment(x_test[:,:,:,3].reshape(x_test.shape[0], x_test.shape[1] * x_test.shape[2]), \n",
    "                                axis=1, moment=2)\n",
    "\n",
    "test_red_dct = scipy.fftpack.dct(x_test[:,:,:,0].astype(np.float64), axis=0)\n",
    "test_green_dct = scipy.fftpack.dct(x_test[:,:,:,1].astype(np.float64), axis=0)\n",
    "test_blue_dct = scipy.fftpack.dct(x_test[:,:,:,2].astype(np.float64), axis=0)\n",
    "test_nir_dct = scipy.fftpack.dct(x_test[:,:,:,3].astype(np.float64), axis=0)\n",
    "\n",
    "test_red_cov, test_green_cov, test_blue_cov, test_nir_cov = getCov(x_test)\n",
    "\n",
    "test_red_ent, test_green_ent, test_blue_ent, test_nir_ent = getEntropy(x_test)\n",
    "\n",
    "test_red_auto, test_green_auto, test_blue_auto, test_nir_auto = getAuto(x_test)\n",
    "\n",
    "test_red_auto = test_red_auto.reshape((test_red_auto.shape[0], 32, 32))\n",
    "test_blue_auto = test_blue_auto.reshape((test_blue_auto.shape[0], 32, 32))\n",
    "test_green_auto = test_blue_auto.reshape((test_green_auto.shape[0], 32, 32))\n",
    "test_nir_auto = test_nir_auto.reshape((test_nir_auto.shape[0], 32, 32))\n",
    "\n",
    "\n",
    "test_means = np.array([test_red_mean, test_green_mean, test_blue_mean, test_nir_mean])\n",
    "test_means = test_means.reshape((test_means.shape[1], test_means.shape[0]))\n",
    "print(test_means.shape)\n",
    "\n",
    "test_std = np.array([test_red_std, test_green_std, test_blue_std, test_nir_std])\n",
    "test_std = test_std.reshape((test_std.shape[1], test_std.shape[0]))\n",
    "\n",
    "test_var = np.array([test_red_var, test_green_var, test_blue_var, test_nir_var])\n",
    "test_var = test_var.reshape((test_var.shape[1], test_var.shape[0]))\n",
    "\n",
    "test_moment = np.array([test_red_moment, test_green_moment, test_blue_moment, test_nir_moment])\n",
    "test_moment = test_moment.reshape((test_moment.shape[1], test_moment.shape[0]))\n",
    "\n",
    "test_ent = np.array([test_red_ent, test_green_ent, test_blue_ent, test_nir_ent])\n",
    "test_ent = test_ent.reshape((test_ent.shape[1], test_ent.shape[0]))\n",
    "\n",
    "test_dct = np.array([test_red_dct, test_green_dct, test_blue_dct, test_nir_dct])\n",
    "test_dct = test_dct.reshape((test_dct.shape[1], test_dct.shape[2], \n",
    "                               test_dct.shape[3], test_dct.shape[0]))\n",
    "print(test_dct.shape)\n",
    "\n",
    "test_cov = np.array([test_red_cov, test_green_cov, test_blue_cov, test_nir_cov])\n",
    "test_cov = test_cov.reshape((test_cov.shape[1], test_cov.shape[2], \n",
    "                               test_cov.shape[3], test_cov.shape[0]))\n",
    "\n",
    "test_auto = np.array([test_red_auto, test_green_auto, test_blue_auto, test_nir_auto])\n",
    "test_auto = test_auto.reshape((test_auto.shape[1], test_auto.shape[2], \n",
    "                               test_auto.shape[3], test_auto.shape[0]))\n"
   ]
  },
  {
   "cell_type": "markdown",
   "metadata": {},
   "source": [
    "I should really save these so I dont have to rerun it every time..."
   ]
  },
  {
   "cell_type": "code",
   "execution_count": 13,
   "metadata": {},
   "outputs": [
    {
     "name": "stdout",
     "output_type": "stream",
     "text": [
      "[[-0.69712817 -0.40731947 -0.68764175 -0.6732679 ]\n",
      " [-0.19834292 -0.49660415 -0.58600371 -0.70497144]\n",
      " [-0.50696221  0.10065853 -0.468822   -0.68333886]\n",
      " ..., \n",
      " [ 0.93774598  0.55756677  1.36349532  0.21687387]\n",
      " [ 0.12920095  0.32415964  0.0403174   1.98330029]\n",
      " [ 0.30278871 -0.35956653  0.31265756  0.4666212 ]]\n"
     ]
    },
    {
     "data": {
      "image/png": "[encoded data removed]",
      "text/plain": [
       "<matplotlib.figure.Figure at 0x11f9f4da0>"
      ]
     },
     "metadata": {},
     "output_type": "display_data"
    }
   ],
   "source": [
    "copy_train_std = np.copy(train_std)\n",
    "copy_train_std -= np.mean(train_std, axis = 0) # zero-center\n",
    "copy_train_std /= np.std(train_std, axis = 0) # normalize\n",
    "print(copy_train_std)\n",
    "\n",
    "import matplotlib.pyplot as plt\n",
    "\n",
    "hist, bins = np.histogram(copy_train_std, bins=10)\n",
    "width = 0.7 * (bins[1] - bins[0])\n",
    "center = (bins[:-1] + bins[1:]) / 2\n",
    "plt.bar(center, hist, align='center', width=width)\n",
    "plt.show()\n"
   ]
  },
  {
   "cell_type": "code",
   "execution_count": 14,
   "metadata": {
    "collapsed": true
   },
   "outputs": [],
   "source": [
    "saving = [train_means, train_std, train_var, train_moment, train_ent, train_dct, train_cov, train_auto,\n",
    "         test_means, test_std, test_var, test_moment, test_ent, test_dct, test_cov, test_auto]\n",
    "with open('basicFeatures2.pkl', 'wb') as out_strm: \n",
    "    dill.dump(saving, out_strm)"
   ]
  },
  {
   "cell_type": "markdown",
   "metadata": {},
   "source": [
    "shit, this is a 3gb file..."
   ]
  },
  {
   "cell_type": "code",
   "execution_count": 12,
   "metadata": {},
   "outputs": [
    {
     "data": {
      "text/plain": [
       "133"
      ]
     },
     "execution_count": 12,
     "metadata": {},
     "output_type": "execute_result"
    }
   ],
   "source": [
    "import gc\n",
    "gc.collect()"
   ]
  },
  {
   "cell_type": "code",
   "execution_count": null,
   "metadata": {
    "collapsed": true
   },
   "outputs": [],
   "source": []
  }
 ],
 "metadata": {
  "kernelspec": {
   "display_name": "Python 3",
   "language": "python",
   "name": "python3"
  },
  "language_info": {
   "codemirror_mode": {
    "name": "ipython",
    "version": 3
   },
   "file_extension": ".py",
   "mimetype": "text/x-python",
   "name": "python",
   "nbconvert_exporter": "python",
   "pygments_lexer": "ipython3",
   "version": "3.6.0"
  }
 },
 "nbformat": 4,
 "nbformat_minor": 2
}
