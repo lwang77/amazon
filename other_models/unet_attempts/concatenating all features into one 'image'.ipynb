{
 "cells": [
  {
   "cell_type": "markdown",
   "metadata": {},
   "source": [
    "general idea: image is 32x32x4. certain features are also 32x32x4."
   ]
  },
  {
   "cell_type": "markdown",
   "metadata": {},
   "source": [
    "why not concatenate all features into the image so it becomes 32x32x16, and then run unet on that?"
   ]
  },
  {
   "cell_type": "code",
   "execution_count": 1,
   "metadata": {},
   "outputs": [
    {
     "name": "stderr",
     "output_type": "stream",
     "text": [
      "Using Theano backend.\n"
     ]
    }
   ],
   "source": [
    "import numpy as np # linear algebra\n",
    "import scipy as scipy\n",
    "import pandas as pd # data processing, CSV file I/O (e.g. pd.read_csv)\n",
    "import os\n",
    "import gc\n",
    "import dill\n",
    "\n",
    "import keras as k\n",
    "import cv2\n",
    "from tqdm import tqdm\n"
   ]
  },
  {
   "cell_type": "code",
   "execution_count": 2,
   "metadata": {},
   "outputs": [
    {
     "name": "stdout",
     "output_type": "stream",
     "text": [
      "(35000, 32, 32, 4)\n"
     ]
    }
   ],
   "source": [
    "with open('tiffs.pkl', 'rb') as in_strm:\n",
    "    all_info = dill.load(in_strm)\n",
    "x_train = np.array(all_info[0], dtype=np.float64)\n",
    "x_test = np.array(all_info[1], dtype=np.float64)\n",
    "y_train = all_info[2]\n",
    "y_test = all_info[3]\n",
    "label_map = all_info[4]\n",
    "inv_label_map = all_info[5]\n",
    "print(x_train.shape)"
   ]
  },
  {
   "cell_type": "code",
   "execution_count": 3,
   "metadata": {
    "collapsed": true
   },
   "outputs": [],
   "source": [
    "with open('basicFeatures.pkl', 'rb') as in_strm:\n",
    "    features = dill.load(in_strm)"
   ]
  },
  {
   "cell_type": "code",
   "execution_count": 4,
   "metadata": {
    "collapsed": true
   },
   "outputs": [],
   "source": [
    "train_features = features[:8]\n",
    "test_features = features[8:]\n",
    "\n",
    "for i, train_feature in enumerate(train_features):\n",
    "    train_feature = np.array(train_feature, dtype=np.float64)\n",
    "    test_feature = np.array(test_features[i], dtype=np.float64)\n",
    "    mean = np.mean(train_feature, axis = 0)\n",
    "    train_feature -= mean # zero-center\n",
    "    test_feature -= mean\n",
    "    std = np.std(train_feature, axis = 0)\n",
    "    train_feature /= std # normalize\n",
    "    test_feature /= std\n",
    "    train_features[i] = np.nan_to_num(train_feature)\n",
    "    test_features[i] = np.nan_to_num(test_feature)\n",
    "    \n",
    "mean = np.mean(x_train, axis = 0)\n",
    "x_train -= mean # zero-center\n",
    "x_test -= mean\n",
    "std = np.std(x_train, axis = 0)\n",
    "x_train /= std # normalize\n",
    "x_test /= std\n",
    "\n",
    "#put into network\n",
    "train_input = [x_train]\n",
    "for train_feature in train_features:\n",
    "    train_input.append(train_feature)\n",
    "\n",
    "test_input = [x_test]\n",
    "for test_feature in test_features:\n",
    "    test_input.append(test_feature)"
   ]
  },
  {
   "cell_type": "code",
   "execution_count": 10,
   "metadata": {},
   "outputs": [],
   "source": [
    "x_train_with_features = []\n",
    "for i in range(x_train.shape[0]):\n",
    "    x_train_with_features.append(np.concatenate((x_train[i], train_features[5][i],\n",
    "                                                 train_features[6][i], train_features[7][i]), axis=2))"
   ]
  },
  {
   "cell_type": "code",
   "execution_count": 11,
   "metadata": {
    "collapsed": true
   },
   "outputs": [],
   "source": [
    "with open('x_train_with_features.pkl', 'wb') as out_strm: \n",
    "    dill.dump(x_train_with_features, out_strm)"
   ]
  },
  {
   "cell_type": "code",
   "execution_count": 12,
   "metadata": {
    "collapsed": true
   },
   "outputs": [],
   "source": [
    "x_train_with_features = []\n",
    "train_features = []\n",
    "features = []"
   ]
  },
  {
   "cell_type": "code",
   "execution_count": 13,
   "metadata": {
    "collapsed": true
   },
   "outputs": [],
   "source": [
    "x_test_with_features = []\n",
    "for i in range(x_test.shape[0]):\n",
    "    x_test_with_features.append(np.concatenate((x_test[i], test_features[5][i],\n",
    "                                                 test_features[6][i], test_features[7][i]), axis=2))"
   ]
  },
  {
   "cell_type": "code",
   "execution_count": 14,
   "metadata": {
    "collapsed": true
   },
   "outputs": [],
   "source": [
    "with open('x_test_with_features.pkl', 'wb') as out_strm: \n",
    "    dill.dump(x_test_with_features, out_strm)"
   ]
  },
  {
   "cell_type": "code",
   "execution_count": null,
   "metadata": {
    "collapsed": true
   },
   "outputs": [],
   "source": []
  }
 ],
 "metadata": {
  "kernelspec": {
   "display_name": "Python 3",
   "language": "python",
   "name": "python3"
  },
  "language_info": {
   "codemirror_mode": {
    "name": "ipython",
    "version": 3
   },
   "file_extension": ".py",
   "mimetype": "text/x-python",
   "name": "python",
   "nbconvert_exporter": "python",
   "pygments_lexer": "ipython3",
   "version": "3.6.0"
  }
 },
 "nbformat": 4,
 "nbformat_minor": 2
}
