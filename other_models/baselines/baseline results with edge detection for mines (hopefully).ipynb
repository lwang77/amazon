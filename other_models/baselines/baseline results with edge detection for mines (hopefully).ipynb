{
 "cells": [
  {
   "cell_type": "code",
   "execution_count": 6,
   "metadata": {},
   "outputs": [
    {
     "name": "stderr",
     "output_type": "stream",
     "text": [
      "Using Theano backend.\n"
     ]
    }
   ],
   "source": [
    "import numpy as np # linear algebra\n",
    "import scipy as scipy\n",
    "import pandas as pd # data processing, CSV file I/O (e.g. pd.read_csv)\n",
    "import os\n",
    "import gc\n",
    "import dill\n",
    "\n",
    "import keras as k\n",
    "import cv2\n",
    "from tqdm import tqdm\n"
   ]
  },
  {
   "cell_type": "code",
   "execution_count": 7,
   "metadata": {},
   "outputs": [
    {
     "name": "stdout",
     "output_type": "stream",
     "text": [
      "(35000, 32, 32, 4)\n"
     ]
    }
   ],
   "source": [
    "with open('tiffs.pkl', 'rb') as in_strm:\n",
    "    all_info = dill.load(in_strm)\n",
    "x_train = np.array(all_info[0], dtype=np.float64)\n",
    "x_test = np.array(all_info[1], dtype=np.float64)\n",
    "y_train = all_info[2]\n",
    "y_test = all_info[3]\n",
    "label_map = all_info[4]\n",
    "inv_label_map = all_info[5]\n",
    "print(x_train.shape)"
   ]
  },
  {
   "cell_type": "code",
   "execution_count": 8,
   "metadata": {},
   "outputs": [
    {
     "name": "stdout",
     "output_type": "stream",
     "text": [
      "0\n",
      "10000\n",
      "20000\n",
      "30000\n",
      "0\n",
      "(35000, 32, 32, 4)\n"
     ]
    }
   ],
   "source": [
    "from skimage import feature\n",
    "\n",
    "def getEdges(a):\n",
    "    red_lst = list()\n",
    "    green_lst = list()\n",
    "    blue_lst = list()\n",
    "    nir_lst = list()\n",
    "    for i, image in enumerate(a):\n",
    "        if i % 10000 == 0:\n",
    "            print(i)\n",
    "        red_lst.append(feature.canny(image[:,:,0], sigma=3))\n",
    "        green_lst.append(feature.canny(image[:,:,1], sigma=3))\n",
    "        blue_lst.append(feature.canny(image[:,:,2], sigma=3))\n",
    "        nir_lst.append(feature.canny(image[:,:,3], sigma=3))\n",
    "    temp = np.array([red_lst, green_lst, blue_lst, nir_lst])\n",
    "    return temp.reshape((temp.shape[1], temp.shape[2], temp.shape[3], temp.shape[0]))\n",
    "\n",
    "train_edges = getEdges(x_train)\n",
    "test_edges = getEdges(x_test)\n",
    "print(train_edges.shape)"
   ]
  },
  {
   "cell_type": "code",
   "execution_count": 9,
   "metadata": {
    "collapsed": true
   },
   "outputs": [],
   "source": [
    "mean = np.mean(x_train, axis = 0)\n",
    "x_train -= mean # zero-center\n",
    "x_test -= mean\n",
    "std = np.std(x_train, axis = 0)\n",
    "x_train /= std # normalize\n",
    "x_test /= std"
   ]
  },
  {
   "cell_type": "code",
   "execution_count": 10,
   "metadata": {},
   "outputs": [
    {
     "data": {
      "image/png": "[encoded data removed]",
      "text/plain": [
       "<matplotlib.figure.Figure at 0x11fe58f98>"
      ]
     },
     "metadata": {},
     "output_type": "display_data"
    },
    {
     "data": {
      "image/png": "[encoded data removed]",
      "text/plain": [
       "<matplotlib.figure.Figure at 0x11fe58ef0>"
      ]
     },
     "metadata": {},
     "output_type": "display_data"
    }
   ],
   "source": [
    "edge_mean = np.mean(train_edges, axis = 0)\n",
    "train_edges = np.subtract(train_edges, edge_mean, casting=\"unsafe\") # zero-center\n",
    "test_edges = np.subtract(test_edges, edge_mean, casting=\"unsafe\") # zero-center\n",
    "edge_std = np.std(train_edges, axis = 0)\n",
    "train_edges /= edge_std # normalize\n",
    "test_edges /= edge_std\n",
    "\n",
    "train_edges = np.nan_to_num(train_edges)\n",
    "test_edges = np.nan_to_num(test_edges)\n",
    "\n",
    "import matplotlib.pyplot as plt\n",
    "hist, bins = np.histogram(train_edges, bins=1000)\n",
    "width = 0.7 * (bins[1] - bins[0])\n",
    "center = (bins[:-1] + bins[1:]) / 2\n",
    "plt.bar(center, hist, align='center', width=width)\n",
    "plt.show()\n",
    "\n",
    "hist, bins = np.histogram(test_edges, bins=1000)\n",
    "width = 0.7 * (bins[1] - bins[0])\n",
    "center = (bins[:-1] + bins[1:]) / 2\n",
    "plt.bar(center, hist, align='center', width=width)\n",
    "plt.show()"
   ]
  },
  {
   "cell_type": "markdown",
   "metadata": {},
   "source": [
    "Extracting features for x_train"
   ]
  },
  {
   "cell_type": "code",
   "execution_count": 14,
   "metadata": {},
   "outputs": [
    {
     "name": "stdout",
     "output_type": "stream",
     "text": [
      "Train on 35000 samples, validate on 5479 samples\n",
      "Epoch 1/7\n",
      "35000/35000 [==============================] - 278s - loss: 0.2718 - acc: 0.8969 - val_loss: 0.2074 - val_acc: 0.9209\n",
      "Epoch 2/7\n",
      "35000/35000 [==============================] - 269s - loss: 0.2003 - acc: 0.9231 - val_loss: 0.1796 - val_acc: 0.9296\n",
      "Epoch 3/7\n",
      "35000/35000 [==============================] - 272s - loss: 0.1741 - acc: 0.9331 - val_loss: 0.1696 - val_acc: 0.9352\n",
      "Epoch 4/7\n",
      "35000/35000 [==============================] - 286s - loss: 0.1588 - acc: 0.9392 - val_loss: 0.1625 - val_acc: 0.9390\n",
      "Epoch 5/7\n",
      "35000/35000 [==============================] - 302s - loss: 0.1471 - acc: 0.9433 - val_loss: 0.1595 - val_acc: 0.9403\n",
      "Epoch 6/7\n",
      "35000/35000 [==============================] - 284s - loss: 0.1370 - acc: 0.9469 - val_loss: 0.1580 - val_acc: 0.9403\n",
      "Epoch 7/7\n",
      "35000/35000 [==============================] - 263s - loss: 0.1294 - acc: 0.9495 - val_loss: 0.1568 - val_acc: 0.9414\n",
      "[[0 0 0 ..., 0 0 0]\n",
      " [0 0 0 ..., 0 1 0]\n",
      " [0 0 1 ..., 0 0 0]\n",
      " ..., \n",
      " [0 0 0 ..., 0 0 0]\n",
      " [0 0 0 ..., 0 1 0]\n",
      " [0 0 0 ..., 0 0 0]]\n",
      "[[  2.05884308e-01   1.19390618e-02   4.13100302e-01 ...,   1.20511390e-02\n",
      "    2.33851478e-01   3.20098065e-02]\n",
      " [  2.42769524e-01   3.90574150e-03   5.50678909e-01 ...,   5.00407419e-04\n",
      "    3.99225414e-01   1.56791694e-02]\n",
      " [  2.67919749e-01   8.28345045e-02   9.04865742e-01 ...,   4.24168713e-04\n",
      "    3.22533101e-01   2.78131142e-02]\n",
      " ..., \n",
      " [  4.35595721e-01   4.16555304e-05   8.16441774e-02 ...,   1.59222491e-05\n",
      "    8.56044710e-01   1.76255293e-02]\n",
      " [  5.49125016e-01   1.37771294e-03   7.31736124e-02 ...,   1.70012572e-04\n",
      "    8.50800633e-01   3.09842750e-02]\n",
      " [  2.65754871e-02   1.96666060e-05   2.09312856e-01 ...,   4.64996934e-04\n",
      "    1.84362099e-01   2.18452630e-03]]\n",
      "0.856269677051\n"
     ]
    }
   ],
   "source": [
    "from keras.models import Sequential\n",
    "from keras.layers import Dense, Dropout, Flatten, Input, Conv2D, MaxPooling2D\n",
    "from keras.models import Model\n",
    "from keras.layers.merge import concatenate\n",
    "from keras.optimizers import Adam\n",
    "\n",
    "#baseline part\n",
    "original_input = Input(shape=(32, 32, 4))\n",
    "conv1 = Conv2D(32, kernel_size=(3, 3), activation='relu')(original_input)\n",
    "conv2 = Conv2D(64, (3, 3), activation='relu')(conv1)\n",
    "max1 = MaxPooling2D(pool_size=(2, 2))(conv2)\n",
    "drop1 = Dropout(0.25)(max1)\n",
    "flat1 = Flatten()(drop1)\n",
    "dense1 = Dense(128, activation='relu')(flat1)\n",
    "drop2 = Dropout(0.5)(dense1)\n",
    "\n",
    "edge_input = Input(shape=(32, 32, 4))\n",
    "drop3 = Dropout(0.25)(edge_input)\n",
    "flat2 = Flatten()(drop3)\n",
    "\n",
    "combine = concatenate([drop2, flat2])\n",
    "dense3 = Dense(256, activation='relu')(combine)\n",
    "drop4 = Dropout(0.5)(dense3)\n",
    "dense4 = Dense(17, activation='sigmoid', name='test')(drop4)\n",
    "\n",
    "\n",
    "\n",
    "model = Model(inputs=[original_input, edge_input], outputs=dense4)\n",
    "\n",
    "model.compile(loss='binary_crossentropy', # We NEED binary here, since categorical_crossentropy l1 norms the output before calculating loss.\n",
    "                    optimizer='adam',\n",
    "                    metrics=['accuracy'])\n",
    "\n",
    "model.fit([x_train, train_edges], y_train, batch_size=128, \n",
    "          epochs=7, verbose=1, validation_data=([x_test, test_edges], y_test))\n",
    "\n",
    "from sklearn.metrics import fbeta_score\n",
    "\n",
    "p_valid = model.predict([x_test, test_edges], batch_size=128)\n",
    "print(y_test)\n",
    "print(p_valid)\n",
    "print(fbeta_score(y_test, np.array(p_valid) > 0.2, beta=2, average='samples'))"
   ]
  },
  {
   "cell_type": "code",
   "execution_count": null,
   "metadata": {
    "collapsed": true
   },
   "outputs": [],
   "source": []
  }
 ],
 "metadata": {
  "kernelspec": {
   "display_name": "Python 3",
   "language": "python",
   "name": "python3"
  },
  "language_info": {
   "codemirror_mode": {
    "name": "ipython",
    "version": 3
   },
   "file_extension": ".py",
   "mimetype": "text/x-python",
   "name": "python",
   "nbconvert_exporter": "python",
   "pygments_lexer": "ipython3",
   "version": "3.6.0"
  }
 },
 "nbformat": 4,
 "nbformat_minor": 2
}
