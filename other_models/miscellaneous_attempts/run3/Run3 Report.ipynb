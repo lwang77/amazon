{
 "cells": [
  {
   "cell_type": "markdown",
   "metadata": {},
   "source": [
    "run 3 is unet with normalization (3 depth) and normal dropout (following Lee)"
   ]
  },
  {
   "cell_type": "code",
   "execution_count": 1,
   "metadata": {
    "collapsed": true
   },
   "outputs": [],
   "source": [
    "label_map = {'slash_burn': 0, 'cultivation': 1, 'blow_down': 2, 'primary': 3, 'cloudy': 4, 'agriculture': 5, 'partly_cloudy': 6, 'selective_logging': 13, \n",
    "             'blooming': 12, 'conventional_mine': 7, 'haze': 8, 'bare_ground': 9, 'habitation': 10, 'road': 11, 'clear': 14, 'water': 15, 'artisinal_mine': 16}"
   ]
  },
  {
   "cell_type": "code",
   "execution_count": 2,
   "metadata": {},
   "outputs": [
    {
     "data": {
      "text/plain": [
       "{'agriculture': 5,\n",
       " 'artisinal_mine': 16,\n",
       " 'bare_ground': 9,\n",
       " 'blooming': 12,\n",
       " 'blow_down': 2,\n",
       " 'clear': 14,\n",
       " 'cloudy': 4,\n",
       " 'conventional_mine': 7,\n",
       " 'cultivation': 1,\n",
       " 'habitation': 10,\n",
       " 'haze': 8,\n",
       " 'partly_cloudy': 6,\n",
       " 'primary': 3,\n",
       " 'road': 11,\n",
       " 'selective_logging': 13,\n",
       " 'slash_burn': 0,\n",
       " 'water': 15}"
      ]
     },
     "execution_count": 2,
     "metadata": {},
     "output_type": "execute_result"
    }
   ],
   "source": [
    "label_map"
   ]
  },
  {
   "cell_type": "raw",
   "metadata": {},
   "source": [
    "Train on 35000 samples, validate on 5479 samples\n",
    "Epoch 1/20\n",
    "2017-06-17 08:36:11.782533: W tensorflow/core/platform/cpu_feature_guard.cc:45] The TensorFlow library wasn't compiled to use SSE4.1 instructions, but these are available on your machine and could speed up CPU computations.\n",
    "2017-06-17 08:36:11.782569: W tensorflow/core/platform/cpu_feature_guard.cc:45] The TensorFlow library wasn't compiled to use SSE4.2 instructions, but these are available on your machine and could speed up CPU computations.\n",
    "2017-06-17 08:36:11.782577: W tensorflow/core/platform/cpu_feature_guard.cc:45] The TensorFlow library wasn't compiled to use AVX instructions, but these are available on your machine and could speed up CPU computations.\n",
    "2017-06-17 08:36:11.782584: W tensorflow/core/platform/cpu_feature_guard.cc:45] The TensorFlow library wasn't compiled to use AVX2 instructions, but these are available on your machine and could speed up CPU computations.\n",
    "2017-06-17 08:36:11.782591: W tensorflow/core/platform/cpu_feature_guard.cc:45] The TensorFlow library wasn't compiled to use FMA instructions, but these are available on your machine and could speed up CPU computations.\n",
    "34944/35000 [============================>.] - ETA: 8s - loss: 0.2643 - acc: 0.9122 Epoch 00000: val_loss improved from inf to 0.31596, saving model to weights.hdf5\n",
    "35000/35000 [==============================] - 5546s - loss: 0.2642 - acc: 0.9122 - val_loss: 0.3160 - val_acc: 0.9043\n",
    "Epoch 2/20\n",
    "34944/35000 [============================>.] - ETA: 8s - loss: 0.1742 - acc: 0.9321 Epoch 00001: val_loss improved from 0.31596 to 0.17227, saving model to weights.hdf5\n",
    "35000/35000 [==============================] - 5685s - loss: 0.1742 - acc: 0.9321 - val_loss: 0.1723 - val_acc: 0.9355\n",
    "Epoch 3/20\n",
    "34944/35000 [============================>.] - ETA: 8s - loss: 0.1480 - acc: 0.9406 Epoch 00002: val_loss improved from 0.17227 to 0.15194, saving model to weights.hdf5\n",
    "35000/35000 [==============================] - 5539s - loss: 0.1480 - acc: 0.9406 - val_loss: 0.1519 - val_acc: 0.9385\n",
    "Epoch 4/20\n",
    "34944/35000 [============================>.] - ETA: 8s - loss: 0.1366 - acc: 0.9449 Epoch 00003: val_loss did not improve\n",
    "35000/35000 [==============================] - 5583s - loss: 0.1365 - acc: 0.9449 - val_loss: 0.1718 - val_acc: 0.9283\n",
    "Epoch 5/20\n",
    "34944/35000 [============================>.] - ETA: 8s - loss: 0.1301 - acc: 0.9474 Epoch 00004: val_loss improved from 0.15194 to 0.13096, saving model to weights.hdf5\n",
    "35000/35000 [==============================] - 5651s - loss: 0.1302 - acc: 0.9473 - val_loss: 0.1310 - val_acc: 0.9477\n",
    "Epoch 6/20\n",
    "34944/35000 [============================>.] - ETA: 8s - loss: 0.1248 - acc: 0.9494 Epoch 00005: val_loss did not improve\n",
    "35000/35000 [==============================] - 5640s - loss: 0.1248 - acc: 0.9494 - val_loss: 0.1321 - val_acc: 0.9491\n",
    "Epoch 7/20\n",
    "34944/35000 [============================>.] - ETA: 8s - loss: 0.1183 - acc: 0.9524 Epoch 00006: val_loss did not improve\n",
    "35000/35000 [==============================] - 5540s - loss: 0.1183 - acc: 0.9524 - val_loss: 0.1341 - val_acc: 0.9463\n",
    "Epoch 8/20\n",
    "34944/35000 [============================>.] - ETA: 8s - loss: 0.1106 - acc: 0.9556 Epoch 00007: val_loss did not improve\n",
    "35000/35000 [==============================] - 5568s - loss: 0.1106 - acc: 0.9555 - val_loss: 0.1312 - val_acc: 0.9502\n",
    "Epoch 9/20\n",
    "34944/35000 [============================>.] - ETA: 8s - loss: 0.0996 - acc: 0.9597 Epoch 00008: val_loss improved from 0.13096 to 0.12929, saving model to weights.hdf5\n",
    "35000/35000 [==============================] - 5655s - loss: 0.0996 - acc: 0.9597 - val_loss: 0.1293 - val_acc: 0.9503\n",
    "Epoch 10/20\n",
    "34944/35000 [============================>.] - ETA: 8s - loss: 0.0844 - acc: 0.9660 Epoch 00009: val_loss did not improve\n",
    "35000/35000 [==============================] - 5529s - loss: 0.0845 - acc: 0.9660 - val_loss: 0.1387 - val_acc: 0.9499\n",
    "Epoch 11/20\n",
    "34944/35000 [============================>.] - ETA: 8s - loss: 0.0652 - acc: 0.9735 Epoch 00010: val_loss did not improve\n",
    "35000/35000 [==============================] - 5746s - loss: 0.0652 - acc: 0.9735 - val_loss: 0.1686 - val_acc: 0.9471\n",
    "Epoch 12/20\n",
    "32128/35000 [==========================>...] - ETA: 438s - loss: 0.0455 - acc: 0.9819"
   ]
  },
  {
   "cell_type": "markdown",
   "metadata": {},
   "source": [
    "max accuracy 0.9503"
   ]
  },
  {
   "cell_type": "markdown",
   "metadata": {},
   "source": [
    "observations: unet is overfitting a lot. more dropout layers..."
   ]
  },
  {
   "cell_type": "code",
   "execution_count": null,
   "metadata": {
    "collapsed": true
   },
   "outputs": [],
   "source": []
  }
 ],
 "metadata": {
  "kernelspec": {
   "display_name": "Python 3",
   "language": "python",
   "name": "python3"
  },
  "language_info": {
   "codemirror_mode": {
    "name": "ipython",
    "version": 3
   },
   "file_extension": ".py",
   "mimetype": "text/x-python",
   "name": "python",
   "nbconvert_exporter": "python",
   "pygments_lexer": "ipython3",
   "version": "3.6.0"
  }
 },
 "nbformat": 4,
 "nbformat_minor": 2
}
