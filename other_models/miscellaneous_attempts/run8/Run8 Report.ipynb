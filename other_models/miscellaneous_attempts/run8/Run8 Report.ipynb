{
 "cells": [
  {
   "cell_type": "markdown",
   "metadata": {},
   "source": [
    "Run 8 is herkeng with batchnorm and dropout only after the maxpooling layers"
   ]
  },
  {
   "cell_type": "code",
   "execution_count": 1,
   "metadata": {
    "collapsed": true
   },
   "outputs": [],
   "source": [
    "label_map = {'agriculture': 4, 'selective_logging': 0, 'primary': 1, 'blow_down': 10, 'cloudy': 3, 'slash_burn': 2, 'artisinal_mine': 5, 'clear': 6, 'cultivation': 7, 'conventional_mine': 8, 'habitation': 9, 'road': 11, 'haze': 12, 'blooming': 14, 'water': 15, 'partly_cloudy': 16, 'bare_ground': 13}"
   ]
  },
  {
   "cell_type": "code",
   "execution_count": 2,
   "metadata": {},
   "outputs": [
    {
     "data": {
      "text/plain": [
       "{'agriculture': 4,\n",
       " 'artisinal_mine': 5,\n",
       " 'bare_ground': 13,\n",
       " 'blooming': 14,\n",
       " 'blow_down': 10,\n",
       " 'clear': 6,\n",
       " 'cloudy': 3,\n",
       " 'conventional_mine': 8,\n",
       " 'cultivation': 7,\n",
       " 'habitation': 9,\n",
       " 'haze': 12,\n",
       " 'partly_cloudy': 16,\n",
       " 'primary': 1,\n",
       " 'road': 11,\n",
       " 'selective_logging': 0,\n",
       " 'slash_burn': 2,\n",
       " 'water': 15}"
      ]
     },
     "execution_count": 2,
     "metadata": {},
     "output_type": "execute_result"
    }
   ],
   "source": [
    "label_map"
   ]
  },
  {
   "cell_type": "raw",
   "metadata": {},
   "source": [
    "Train on 35000 samples, validate on 5479 samples\n",
    "Epoch 1/20\n",
    "2017-06-18 03:07:21.917108: W tensorflow/core/platform/cpu_feature_guard.cc:45] The TensorFlow library wasn't compiled to use SSE4.1 instructions, but these are available on your machine and could speed up CPU computations.\n",
    "2017-06-18 03:07:21.917146: W tensorflow/core/platform/cpu_feature_guard.cc:45] The TensorFlow library wasn't compiled to use SSE4.2 instructions, but these are available on your machine and could speed up CPU computations.\n",
    "2017-06-18 03:07:21.917154: W tensorflow/core/platform/cpu_feature_guard.cc:45] The TensorFlow library wasn't compiled to use AVX instructions, but these are available on your machine and could speed up CPU computations.\n",
    "2017-06-18 03:07:21.917161: W tensorflow/core/platform/cpu_feature_guard.cc:45] The TensorFlow library wasn't compiled to use AVX2 instructions, but these are available on your machine and could speed up CPU computations.\n",
    "2017-06-18 03:07:21.917168: W tensorflow/core/platform/cpu_feature_guard.cc:45] The TensorFlow library wasn't compiled to use FMA instructions, but these are available on your machine and could speed up CPU computations.\n",
    "35000/35000 [==============================] - 1211s - loss: 0.1949 - acc: 0.9239 - val_loss: 0.2643 - val_acc: 0.9123 inf to 0.26428, saving model to weights.hdf5\n",
    "Epoch 2/20\n",
    "34944/35000 [============================>.] - ETA: 1s - loss: 0.1460 - acc: 0.9426Epoch 00001: val_loss improved from 0.26428 to 0.13955, saving model to weights.h35000/35000 [==============================] - 1198s - loss: 0.1460 - acc: 0.9426 - val_loss: 0.1396 - val_acc: 0.9442\n",
    "Epoch 3/20\n",
    "34944/35000 [============================>.] - ETA: 1s - loss: 0.1342 - acc: 0.9475Epoch 00002: val_loss improved from 0.13955 to 0.12207, saving model to weights.h35000/35000 [==============================] - 1198s - loss: 0.1342 - acc: 0.9475 - val_loss: 0.1221 - val_acc: 0.9522\n",
    "Epoch 4/20\n",
    "35000/35000 [==============================] - 1196s - loss: 0.1256 - acc: 0.9513 - val_loss: 0.1265 - val_acc: 0.9486ve\n",
    "Epoch 5/20\n",
    "34944/35000 [============================>.] - ETA: 1s - loss: 0.1208 - acc: 0.9531Epoch 00004: val_loss improved from 0.12207 to 0.11009, saving model to weights.h35000/35000 [==============================] - 1191s - loss: 0.1208 - acc: 0.9531 - val_loss: 0.1101 - val_acc: 0.9559\n",
    "Epoch 6/20\n",
    "35000/35000 [==============================] - 1200s - loss: 0.1173 - acc: 0.9545 - val_loss: 0.1129 - val_acc: 0.9560ve\n",
    "Epoch 7/20\n",
    "34944/35000 [============================>.] - ETA: 1s - loss: 0.1147 - acc: 0.9559Epoch 00006: val_loss improved from 0.11009 to 0.10914, saving model to weights.h35000/35000 [==============================] - 1188s - loss: 0.1147 - acc: 0.9559 - val_loss: 0.1091 - val_acc: 0.9562\n",
    "Epoch 8/20\n",
    "35000/35000 [==============================] - 1190s - loss: 0.1120 - acc: 0.9567 - val_loss: 0.1140 - val_acc: 0.9549ve\n",
    "Epoch 9/20\n",
    "34944/35000 [============================>.] - ETA: 1s - loss: 0.1093 - acc: 0.9577Epoch 00008: val_loss improved from 0.10914 to 0.10539, saving model to weights.h35000/35000 [==============================] - 1188s - loss: 0.1093 - acc: 0.9577 - val_loss: 0.1054 - val_acc: 0.9581\n",
    "Epoch 10/20\n",
    "35000/35000 [==============================] - 1188s - loss: 0.1074 - acc: 0.9584 - val_loss: 0.1101 - val_acc: 0.9568ve\n",
    "Epoch 11/20\n",
    "35000/35000 [==============================] - 1185s - loss: 0.1074 - acc: 0.9582 - val_loss: 0.1099 - val_acc: 0.9570ve\n",
    "Epoch 12/20\n",
    "34944/35000 [============================>.] - ETA: 1s - loss: 0.1053 - acc: 0.9591Epoch 00011: val_loss improved from 0.10539 to 0.10039, saving model to weights.h35000/35000 [==============================] - 1189s - loss: 0.1053 - acc: 0.9592 - val_loss: 0.1004 - val_acc: 0.9614\n",
    "Epoch 13/20\n",
    "35000/35000 [==============================] - 1181s - loss: 0.1040 - acc: 0.9597 - val_loss: 0.1037 - val_acc: 0.9587ve\n",
    "Epoch 14/20\n",
    "35000/35000 [==============================] - 1234s - loss: 0.1031 - acc: 0.9602 - val_loss: 0.1033 - val_acc: 0.9597ve\n",
    "Epoch 15/20\n",
    "35000/35000 [==============================] - 1229s - loss: 0.1015 - acc: 0.9606 - val_loss: 0.1006 - val_acc: 0.9598ve\n",
    "Epoch 16/20\n",
    "35000/35000 [==============================] - 1202s - loss: 0.1008 - acc: 0.9609 - val_loss: 0.1022 - val_acc: 0.9603ve\n",
    "Epoch 17/20\n",
    "34944/35000 [============================>.] - ETA: 1s - loss: 0.0998 - acc: 0.9612Epoch 00016: val_loss improved from 0.10039 to 0.09943, saving model to weights.h35000/35000 [==============================] - 1190s - loss: 0.0998 - acc: 0.9612 - val_loss: 0.0994 - val_acc: 0.9607\n",
    "Epoch 18/20\n",
    "35000/35000 [==============================] - 1200s - loss: 0.0987 - acc: 0.9612 - val_loss: 0.1004 - val_acc: 0.9617ve\n",
    "Epoch 19/20\n",
    "35000/35000 [==============================] - 1200s - loss: 0.0980 - acc: 0.9618 - val_loss: 0.0997 - val_acc: 0.9605ve\n",
    "Epoch 20/20\n",
    "34944/35000 [============================>.] - ETA: 1s - loss: 0.0969 - acc: 0.9624Epoch 00019: val_loss improved from 0.09943 to 0.09811, saving model to weights.h35000/35000 [==============================] - 1198s - loss: 0.0969 - acc: 0.9623 - val_loss: 0.0981 - val_acc: 0.9618\n",
    "Train on 35000 samples, validate on 5479 samples\n",
    "Epoch 1/5\n",
    "34944/35000 [============================>.] - ETA: 1s - loss: 0.0912 - acc: 0.9646Epoch 00000: val_loss improved from 0.09811 to 0.09206, saving model to weights.h35000/35000 [==============================] - 1208s - loss: 0.0912 - acc: 0.9646 - val_loss: 0.0921 - val_acc: 0.9642\n",
    "Epoch 2/5\n",
    "34944/35000 [============================>.] - ETA: 1s - loss: 0.0893 - acc: 0.9653Epoch 00001: val_loss improved from 0.09206 to 0.09204, saving model to weights.h35000/35000 [==============================] - 1198s - loss: 0.0893 - acc: 0.9653 - val_loss: 0.0920 - val_acc: 0.9639\n",
    "Epoch 3/5\n",
    "35000/35000 [==============================] - 1199s - loss: 0.0883 - acc: 0.9654 - val_loss: 0.0921 - val_acc: 0.9643ve\n",
    "Epoch 4/5\n",
    "35000/35000 [==============================] - 1186s - loss: 0.0879 - acc: 0.9656 - val_loss: 0.0922 - val_acc: 0.9643ve\n",
    "Epoch 5/5\n",
    "34944/35000 [============================>.] - ETA: 1s - loss: 0.0875 - acc: 0.9659Epoch 00004: val_loss improved from 0.09204 to 0.09142, saving model to weights.h35000/35000 [==============================] - 1184s - loss: 0.0875 - acc: 0.9659 - val_loss: 0.0914 - val_acc: 0.9650\n",
    "Train on 35000 samples, validate on 5479 samples\n",
    "Epoch 1/5\n",
    "35000/35000 [==============================] - 1186s - loss: 0.0863 - acc: 0.9662 - val_loss: 0.0915 - val_acc: 0.9645ve\n",
    "Epoch 2/5\n",
    "34944/35000 [============================>.] - ETA: 1s - loss: 0.0866 - acc: 0.9662Epoch 00001: val_loss improved from 0.09142 to 0.09124, saving model to weights.h35000/35000 [==============================] - 1180s - loss: 0.0866 - acc: 0.9662 - val_loss: 0.0912 - val_acc: 0.9644\n",
    "Epoch 3/5\n",
    "34944/35000 [============================>.] - ETA: 1s - loss: 0.0862 - acc: 0.9663Epoch 00002: val_loss improved from 0.09124 to 0.09116, saving model to weights.h35000/35000 [==============================] - 1179s - loss: 0.0862 - acc: 0.9663 - val_loss: 0.0912 - val_acc: 0.9646\n",
    "Epoch 4/5\n",
    "35000/35000 [==============================] - 1171s - loss: 0.0860 - acc: 0.9663 - val_loss: 0.0913 - val_acc: 0.9646ve\n",
    "Epoch 5/5\n",
    "35000/35000 [==============================] - 1172s - loss: 0.0860 - acc: 0.9662 - val_loss: 0.0913 - val_acc: 0.9648ve\n"
   ]
  },
  {
   "cell_type": "markdown",
   "metadata": {},
   "source": [
    "max accuracy 0.965"
   ]
  },
  {
   "cell_type": "markdown",
   "metadata": {},
   "source": [
    "Good. Best herkengcheng yet...\n",
    "Notes: batchnorm and dropout help this network a lot."
   ]
  },
  {
   "cell_type": "code",
   "execution_count": null,
   "metadata": {
    "collapsed": true
   },
   "outputs": [],
   "source": []
  }
 ],
 "metadata": {
  "kernelspec": {
   "display_name": "Python 3",
   "language": "python",
   "name": "python3"
  },
  "language_info": {
   "codemirror_mode": {
    "name": "ipython",
    "version": 3
   },
   "file_extension": ".py",
   "mimetype": "text/x-python",
   "name": "python",
   "nbconvert_exporter": "python",
   "pygments_lexer": "ipython3",
   "version": "3.6.0"
  }
 },
 "nbformat": 4,
 "nbformat_minor": 2
}
