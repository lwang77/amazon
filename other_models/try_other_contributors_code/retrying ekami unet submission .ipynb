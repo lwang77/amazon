{
 "cells": [
  {
   "cell_type": "code",
   "execution_count": 2,
   "metadata": {},
   "outputs": [],
   "source": [
    "import numpy as np # linear algebra\n",
    "import scipy as scipy\n",
    "import pandas as pd # data processing, CSV file I/O (e.g. pd.read_csv)\n",
    "import os\n",
    "import gc\n",
    "import dill\n",
    "\n",
    "import keras as k\n",
    "from keras.models import Sequential\n",
    "from keras.layers import Dense, Dropout, Flatten\n",
    "from keras.layers import Conv2D, MaxPooling2D\n",
    "\n",
    "import cv2\n",
    "from tqdm import tqdm\n",
    "from PIL import Image"
   ]
  },
  {
   "cell_type": "code",
   "execution_count": 6,
   "metadata": {},
   "outputs": [
    {
     "name": "stdout",
     "output_type": "stream",
     "text": [
      "(61191, 64, 64, 3)\n"
     ]
    }
   ],
   "source": [
    "x_test = []\n",
    "\n",
    "for f in range(40669):\n",
    "    filename = '../DB/test-jpg/test_{}.jpg'.format(f)\n",
    "    img = Image.open(filename)\n",
    "    img.thumbnail((64, 64))\n",
    "\n",
    "    img_array = np.asarray(img.convert(\"RGB\"), dtype=np.float32) / 255\n",
    "    \n",
    "    x_test.append(img_array)\n",
    "\n",
    "    \n",
    "for f in range(20522):\n",
    "    filename = '../DB/test-jpg-additional/file_{}.jpg'.format(f)\n",
    "    img = Image.open(filename)\n",
    "    img.thumbnail((64, 64))\n",
    "\n",
    "    img_array = np.asarray(img.convert(\"RGB\"), dtype=np.float32) / 255\n",
    "    \n",
    "    x_test.append(img_array)\n",
    "\n",
    "    \n",
    "x_test = np.asarray(x_test)\n",
    "\n",
    "print(x_test.shape)\n"
   ]
  },
  {
   "cell_type": "code",
   "execution_count": 7,
   "metadata": {
    "collapsed": true
   },
   "outputs": [],
   "source": [
    "import math\n",
    "\n",
    "def add_unet_block(depth, width, drop_constant, act, previous_layer):\n",
    "    prev = previous_layer\n",
    "    toConcatLater = list()\n",
    "\n",
    "    for cur_depth in range(depth):\n",
    "        if cur_depth != 0:\n",
    "            prev = MaxPooling2D(pool_size=(2, 2))(prev)\n",
    "        conv_width = int(width * math.pow(2, cur_depth))\n",
    "        conv1 = Conv2D(conv_width, (3, 3), activation=act, padding='same')(prev)\n",
    "        conv2 = Conv2D(conv_width, (3, 3), activation=act, padding='same')(conv1)\n",
    "        prev = conv2\n",
    "        toConcatLater.append(conv2)\n",
    "    prev = UpSampling2D(size=(2, 2))(prev)\n",
    "    for cur_depth in reversed(range(depth - 1)):\n",
    "        merged = concatenate([prev, toConcatLater[cur_depth]], axis=3)\n",
    "        drop = Dropout(drop_constant)(merged)\n",
    "        conv_width = int(width * math.pow(2, cur_depth))\n",
    "        conv1 = Conv2D(conv_width, (3, 3), activation=act, padding='same')(drop)\n",
    "        conv2 = Conv2D(conv_width, (3, 3), activation=act, padding='same')(conv1)\n",
    "        if cur_depth != 0:\n",
    "            up = UpSampling2D(size=(2, 2))(conv2)\n",
    "            prev = up\n",
    "        else:\n",
    "            prev = conv2\n",
    "    return prev\n"
   ]
  },
  {
   "cell_type": "code",
   "execution_count": 8,
   "metadata": {
    "collapsed": true
   },
   "outputs": [],
   "source": [
    "from keras.layers import Input, UpSampling2D\n",
    "from keras.layers.merge import concatenate\n",
    "from keras.models import Model"
   ]
  },
  {
   "cell_type": "code",
   "execution_count": 9,
   "metadata": {
    "collapsed": true
   },
   "outputs": [],
   "source": [
    "input_layer = Input(shape=(64, 64, 3))\n",
    "unet_out = add_unet_block(3, 32, 0.4, 'relu', input_layer)\n",
    "flat = Flatten()(unet_out)\n",
    "dense1 = Dense(512, activation='relu')(flat)\n",
    "dense2 = Dense(17, activation='sigmoid')(dense1)\n",
    "unet = Model(inputs=[input_layer], outputs=dense2)"
   ]
  },
  {
   "cell_type": "code",
   "execution_count": 10,
   "metadata": {
    "collapsed": true
   },
   "outputs": [],
   "source": [
    "unet.load_weights('weights.best.hdf5')"
   ]
  },
  {
   "cell_type": "code",
   "execution_count": 11,
   "metadata": {
    "collapsed": true
   },
   "outputs": [],
   "source": [
    "predictions = unet.predict(x_test, batch_size=128)"
   ]
  },
  {
   "cell_type": "code",
   "execution_count": 12,
   "metadata": {
    "collapsed": true
   },
   "outputs": [],
   "source": [
    "def map_predictions(predictions, labels_map, thresholds):\n",
    "    \"\"\"\n",
    "    Return the predictions mapped to their labels\n",
    "    :param predictions: the predictions from the predict() method\n",
    "    :param labels_map: the map\n",
    "    :param thresholds: The threshold of each class to be considered as existing or not existing\n",
    "    :return: the predictions list mapped to their labels\n",
    "    \"\"\"\n",
    "    predictions_labels = []\n",
    "    for prediction in predictions:\n",
    "        labels = [labels_map[i] for i, value in enumerate(prediction) if value > thresholds[i]]\n",
    "        predictions_labels.append(labels)\n",
    "\n",
    "    return predictions_labels"
   ]
  },
  {
   "cell_type": "code",
   "execution_count": 13,
   "metadata": {
    "collapsed": true
   },
   "outputs": [],
   "source": [
    "unet_label_map = {0: 'agriculture',\n",
    " 1: 'artisinal_mine',\n",
    " 2: 'bare_ground',\n",
    " 3: 'blooming',\n",
    " 4: 'blow_down',\n",
    " 5: 'clear',\n",
    " 6: 'cloudy',\n",
    " 7: 'conventional_mine',\n",
    " 8: 'cultivation',\n",
    " 9: 'habitation',\n",
    " 10: 'haze',\n",
    " 11: 'partly_cloudy',\n",
    " 12: 'primary',\n",
    " 13: 'road',\n",
    " 14: 'selective_logging',\n",
    " 15: 'slash_burn',\n",
    " 16: 'water'}\n"
   ]
  },
  {
   "cell_type": "code",
   "execution_count": 14,
   "metadata": {
    "collapsed": true
   },
   "outputs": [],
   "source": [
    "thresholds = [0.2] * len(unet_label_map)\n",
    "predicted_labels = map_predictions(predictions, unet_label_map, thresholds)"
   ]
  },
  {
   "cell_type": "code",
   "execution_count": 15,
   "metadata": {},
   "outputs": [
    {
     "name": "stdout",
     "output_type": "stream",
     "text": [
      "(61191,)\n"
     ]
    }
   ],
   "source": [
    "x_test_filename = ['test_{}.jpg'.format(i) for i in range(40669)]\n",
    "x_test_filename2 = ['file_{}.jpg'.format(i) for i in range(20522)]\n",
    "x_test_filename = np.hstack((x_test_filename, x_test_filename2))\n",
    "print(x_test_filename.shape)"
   ]
  },
  {
   "cell_type": "code",
   "execution_count": 16,
   "metadata": {
    "collapsed": true
   },
   "outputs": [],
   "source": [
    "tags_list = [None] * len(predicted_labels)\n",
    "for i, tags in enumerate(predicted_labels):\n",
    "    tags_list[i] = ' '.join(map(str, tags))\n",
    "\n",
    "final_data = [[filename.split(\".\")[0], tags] for filename, tags in zip(x_test_filename, tags_list)]"
   ]
  },
  {
   "cell_type": "code",
   "execution_count": 17,
   "metadata": {},
   "outputs": [
    {
     "data": {
      "text/html": [
       "<div>\n",
       "<table border=\"1\" class=\"dataframe\">\n",
       "  <thead>\n",
       "    <tr style=\"text-align: right;\">\n",
       "      <th></th>\n",
       "      <th>image_name</th>\n",
       "      <th>tags</th>\n",
       "    </tr>\n",
       "  </thead>\n",
       "  <tbody>\n",
       "    <tr>\n",
       "      <th>0</th>\n",
       "      <td>test_0</td>\n",
       "      <td>clear primary</td>\n",
       "    </tr>\n",
       "    <tr>\n",
       "      <th>1</th>\n",
       "      <td>test_1</td>\n",
       "      <td>clear primary</td>\n",
       "    </tr>\n",
       "    <tr>\n",
       "      <th>2</th>\n",
       "      <td>test_2</td>\n",
       "      <td>partly_cloudy primary</td>\n",
       "    </tr>\n",
       "    <tr>\n",
       "      <th>3</th>\n",
       "      <td>test_3</td>\n",
       "      <td>agriculture clear cultivation primary</td>\n",
       "    </tr>\n",
       "    <tr>\n",
       "      <th>4</th>\n",
       "      <td>test_4</td>\n",
       "      <td>cloudy partly_cloudy primary</td>\n",
       "    </tr>\n",
       "  </tbody>\n",
       "</table>\n",
       "</div>"
      ],
      "text/plain": [
       "  image_name                                   tags\n",
       "0     test_0                          clear primary\n",
       "1     test_1                          clear primary\n",
       "2     test_2                  partly_cloudy primary\n",
       "3     test_3  agriculture clear cultivation primary\n",
       "4     test_4           cloudy partly_cloudy primary"
      ]
     },
     "execution_count": 17,
     "metadata": {},
     "output_type": "execute_result"
    }
   ],
   "source": [
    "final_df = pd.DataFrame(final_data, columns=['image_name', 'tags'])\n",
    "final_df.head()"
   ]
  },
  {
   "cell_type": "code",
   "execution_count": 18,
   "metadata": {
    "collapsed": true
   },
   "outputs": [],
   "source": [
    "final_df.to_csv('ekami_unet_verify2.csv', index=False)"
   ]
  },
  {
   "cell_type": "code",
   "execution_count": 19,
   "metadata": {},
   "outputs": [
    {
     "name": "stdout",
     "output_type": "stream",
     "text": [
      "[  3.85089591e-03   5.26798267e-08   6.65377956e-05   8.44099186e-03\n",
      "   1.05370877e-04   9.99781072e-01   2.66136169e-07   1.36377256e-08\n",
      "   3.61190410e-04   1.17070286e-03   6.23417727e-04   4.16171351e-05\n",
      "   9.99996364e-01   5.81461238e-03   4.30325978e-03   7.04003969e-06\n",
      "   4.65501435e-02]\n"
     ]
    }
   ],
   "source": [
    "print(predictions[0])"
   ]
  },
  {
   "cell_type": "code",
   "execution_count": 20,
   "metadata": {},
   "outputs": [
    {
     "name": "stdout",
     "output_type": "stream",
     "text": [
      "(61191, 64, 64, 3)\n",
      "(61191,)\n"
     ]
    }
   ],
   "source": [
    "print(x_test.shape)\n",
    "print(x_test_filename.shape)"
   ]
  },
  {
   "cell_type": "code",
   "execution_count": null,
   "metadata": {
    "collapsed": true
   },
   "outputs": [],
   "source": []
  }
 ],
 "metadata": {
  "kernelspec": {
   "display_name": "Python 3",
   "language": "python",
   "name": "python3"
  },
  "language_info": {
   "codemirror_mode": {
    "name": "ipython",
    "version": 3
   },
   "file_extension": ".py",
   "mimetype": "text/x-python",
   "name": "python",
   "nbconvert_exporter": "python",
   "pygments_lexer": "ipython3",
   "version": "3.6.0"
  }
 },
 "nbformat": 4,
 "nbformat_minor": 2
}
